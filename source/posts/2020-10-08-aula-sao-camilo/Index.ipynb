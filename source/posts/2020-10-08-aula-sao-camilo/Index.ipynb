{
 "cells": [
  {
   "cell_type": "markdown",
   "metadata": {},
   "source": [
    "# Bem vindo ao Python"
   ]
  },
  {
   "cell_type": "markdown",
   "metadata": {},
   "source": [
    "Python é uma linguagem de programação muito usada atualmente por diversas áreas científicas, dentre elas, a Bioinformática.\n",
    "\n",
    "Hoje, vamos começar a nos aventurar com algoritmos, usando ele como base para tal."
   ]
  },
  {
   "cell_type": "markdown",
   "metadata": {},
   "source": [
    "## O básico de algoritmos"
   ]
  },
  {
   "cell_type": "markdown",
   "metadata": {},
   "source": [
    "### Variáveis"
   ]
  },
  {
   "cell_type": "markdown",
   "metadata": {},
   "source": [
    "Um conceito muito importante em algoritmos são as variáveis, e seus tipos."
   ]
  },
  {
   "cell_type": "markdown",
   "metadata": {},
   "source": [
    "Variáveis são como caixinhas com etiquetas, dentro das quais você guarda informações, e todas as informações podem ser reaproveitadas no futuro. Um exemplo é a variável com a \"etiqueta\" `idade`, abaixo:"
   ]
  },
  {
   "cell_type": "code",
   "execution_count": null,
   "metadata": {},
   "outputs": [],
   "source": [
    "idade = 18"
   ]
  },
  {
   "cell_type": "markdown",
   "metadata": {},
   "source": [
    "Como dissemos, variáveis possuem tipos. Estes tipos são definidos pelo tipo de dado que elas guardam, por exemplo, enquanto à variável acima guarda um número, a de baixo guarda um texto, no caso, com o nome de uma pessoa:"
   ]
  },
  {
   "cell_type": "code",
   "execution_count": null,
   "metadata": {},
   "outputs": [],
   "source": [
    "nome = \"Thiago\""
   ]
  },
  {
   "cell_type": "markdown",
   "metadata": {},
   "source": [
    "O tipo _booleano_ armazena dados dados booleanos, ou seja, se algo é verdadeiro ou falso."
   ]
  },
  {
   "cell_type": "code",
   "execution_count": null,
   "metadata": {},
   "outputs": [],
   "source": [
    "sou_maior_de_idade = True"
   ]
  },
  {
   "cell_type": "code",
   "execution_count": null,
   "metadata": {},
   "outputs": [],
   "source": [
    "estou_de_mascara = False"
   ]
  },
  {
   "cell_type": "markdown",
   "metadata": {},
   "source": [
    "Temos também um outro tipo, do tipo lista, que é como uma caixinha com várias outras caixinhas dentro:"
   ]
  },
  {
   "cell_type": "code",
   "execution_count": null,
   "metadata": {},
   "outputs": [],
   "source": [
    "idades_na_fila_da_balada = [18, 21, 34, 17, 27]"
   ]
  },
  {
   "cell_type": "markdown",
   "metadata": {},
   "source": [
    "Muitas variáveis podem ser obtidas através de algum preenchimento de dados do usuário, por exemplo, abaixo, obtemos a idade do próprio usuário:"
   ]
  },
  {
   "cell_type": "code",
   "execution_count": null,
   "metadata": {},
   "outputs": [],
   "source": [
    "idade = int(input('Minha idade é: '))"
   ]
  },
  {
   "cell_type": "markdown",
   "metadata": {},
   "source": [
    "### Decisões\n",
    "\n",
    "Algoritmos são sobre tomar decisões que geralmente respondem perguntas. Qual proteína devo produzir a partir deste RNA ?\n",
    "\n",
    "Qual é a fita complementar desta fita molde? Outro exemplo, o qual representamos abaixo: como saber se uma pessoa pode entrar na balada? Simples, verifique a idade dele! :)"
   ]
  },
  {
   "cell_type": "code",
   "execution_count": null,
   "metadata": {},
   "outputs": [],
   "source": [
    "if idade >= 18:\n",
    "    print(\"Beleza, pode entrar, você é maior de idade!\")\n",
    "else:\n",
    "    print(\"Não vai rolar, volte quando tiver mais de 18!\")"
   ]
  },
  {
   "cell_type": "markdown",
   "metadata": {},
   "source": [
    "Ou, no nosso \"novo normal\", como saber se alguém pode sair de casa?"
   ]
  },
  {
   "cell_type": "code",
   "execution_count": null,
   "metadata": {},
   "outputs": [],
   "source": [
    "if estou_de_mascara:\n",
    "    print(\"Ok, posso sair de casa\")\n",
    "else:\n",
    "    print(\"Preciso colocar a máscara antes de sair\")"
   ]
  },
  {
   "cell_type": "markdown",
   "metadata": {},
   "source": [
    "### Repetição\n",
    "\n",
    "Eventualmente, em um algoritmo, precisaremos repetir uma operação diversas vezes. Para isto, usamos um tipo de operadores especiais chamado _laços de repetição_."
   ]
  },
  {
   "cell_type": "markdown",
   "metadata": {},
   "source": [
    "O primeiro é o `for`, que usamos quando sabemos o tamanho específico de repetições que teremos:"
   ]
  },
  {
   "cell_type": "code",
   "execution_count": null,
   "metadata": {},
   "outputs": [],
   "source": [
    "for idade in [18, 21, 32, 17, 25]:\n",
    "    if idade >= 18:\n",
    "        maior_de_idade = True\n",
    "    else:\n",
    "        maior_de_idade = False\n",
    "        \n",
    "    if maior_de_idade:\n",
    "        print(\"Ok, pode entrar!\")\n",
    "    else:\n",
    "        print(\"Volte pra casa!\")"
   ]
  },
  {
   "cell_type": "code",
   "execution_count": null,
   "metadata": {},
   "outputs": [],
   "source": [
    "idade = 0\n",
    "\n",
    "while idade < 18:\n",
    "    print(\"Você ainda é menor de idade, tem somente %d\" % idade)\n",
    "    \n",
    "    idade = idade + 1"
   ]
  },
  {
   "cell_type": "markdown",
   "metadata": {},
   "source": [
    "### Funções\n",
    "\n",
    "Funções é a forma através da qual você pode \"empacotar\" uma lógica e chamá-la por um nome específico.\n",
    "\n",
    "Por exem"
   ]
  },
  {
   "cell_type": "code",
   "execution_count": null,
   "metadata": {},
   "outputs": [],
   "source": [
    "def soma_numeros(numero1, numero2):\n",
    "    resultado = numero1 + numero2\n",
    "    \n",
    "    return resultado"
   ]
  },
  {
   "cell_type": "code",
   "execution_count": null,
   "metadata": {},
   "outputs": [],
   "source": [
    "soma_numeros(21, 32)"
   ]
  },
  {
   "cell_type": "markdown",
   "metadata": {},
   "source": [
    "## Introdução (bem introdutória) à Bioinformática"
   ]
  },
  {
   "cell_type": "markdown",
   "metadata": {},
   "source": [
    "Como falamos anteriormente, algoritmos são compartilhados, e alguns são distribuídos de forma \"empacotada\"."
   ]
  },
  {
   "cell_type": "markdown",
   "metadata": {},
   "source": [
    "No Python, nós instalamos estes pacotes por meio de uma ferramenta chamada `pip`. Abaixo, nós instalamos a biblioteca [biopython](https://biopython.org/), a \"biblioteca\" para trabalhar com computação biológica no Python."
   ]
  },
  {
   "cell_type": "code",
   "execution_count": null,
   "metadata": {},
   "outputs": [],
   "source": [
    "!pip3 install biopython"
   ]
  },
  {
   "cell_type": "code",
   "execution_count": null,
   "metadata": {},
   "outputs": [],
   "source": [
    "from Bio.Seq import Seq"
   ]
  },
  {
   "cell_type": "code",
   "execution_count": null,
   "metadata": {},
   "outputs": [],
   "source": [
    "minha_fita_de_dna = Seq(\"CATGTAGACTAG\")"
   ]
  },
  {
   "cell_type": "code",
   "execution_count": null,
   "metadata": {},
   "outputs": [],
   "source": [
    "print(\"A fita %s possui %i bases\" % (minha_fita_de_dna, len(minha_fita_de_dna)))"
   ]
  },
  {
   "cell_type": "code",
   "execution_count": null,
   "metadata": {},
   "outputs": [],
   "source": [
    "print(\"A fita complementar da fica acima é %s\" % minha_fita_de_dna.reverse_complement())"
   ]
  },
  {
   "cell_type": "code",
   "execution_count": null,
   "metadata": {},
   "outputs": [],
   "source": [
    "print(\"Esta fita de DNA irá produzir as seguintes proteínas: %s\" % minha_fita_de_dna.translate())"
   ]
  }
 ],
 "metadata": {
  "kernelspec": {
   "display_name": "Python 3",
   "language": "python",
   "name": "python3"
  },
  "language_info": {
   "codemirror_mode": {
    "name": "ipython",
    "version": 3
   },
   "file_extension": ".py",
   "mimetype": "text/x-python",
   "name": "python",
   "nbconvert_exporter": "python",
   "pygments_lexer": "ipython3",
   "version": "3.8.5"
  }
 },
 "nbformat": 4,
 "nbformat_minor": 2
}
